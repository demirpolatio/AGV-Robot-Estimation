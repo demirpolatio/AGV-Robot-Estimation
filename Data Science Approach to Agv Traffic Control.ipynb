{
 "cells": [
  {
   "cell_type": "code",
   "execution_count": 1,
   "id": "ebf0016a",
   "metadata": {},
   "outputs": [],
   "source": [
    "import numpy as np ## numpy added because of array operations in homework\n",
    "\n",
    "import pandas as pd## numpy added because of reading and writing csv or data files in homework\n",
    "\n",
    "import matplotlib.pyplot as plt  # added for plotting of datas\n",
    "\n",
    "from sklearn.preprocessing import StandardScaler  ## added for scaling the data \n",
    "\n",
    "from sklearn.metrics import accuracy_score, recall_score, precision_score, f1_score ## added for measure the performance of classifiers\n",
    "\n",
    "from sklearn.metrics import classification_report ## added for reporting performance result of classifier\n",
    "\n",
    "from sklearn.metrics import confusion_matrix, ConfusionMatrixDisplay ## added for visulization of data.\n",
    "\n",
    "from sklearn.model_selection import train_test_split #added for preperation of input data for classification\n",
    "\n",
    "from sklearn.neighbors import KNeighborsClassifier #added for classification\n",
    "\n",
    "from sklearn.ensemble import RandomForestClassifier  #added for classification\n",
    "\n",
    "from sklearn.svm import SVC  #added for classification\n",
    "\n",
    "pd.options.mode.chained_assignment = None   #prevent SettingWithCopyWarning"
   ]
  },
  {
   "cell_type": "code",
   "execution_count": 2,
   "id": "f7d99a42",
   "metadata": {},
   "outputs": [
    {
     "data": {
      "text/plain": [
       "'C:\\\\Users\\\\denizde\\\\Desktop'"
      ]
     },
     "execution_count": 2,
     "metadata": {},
     "output_type": "execute_result"
    }
   ],
   "source": [
    "import os\n",
    "os.getcwd()"
   ]
  },
  {
   "cell_type": "code",
   "execution_count": 3,
   "id": "436259a2",
   "metadata": {},
   "outputs": [],
   "source": [
    "dataset = pd.read_csv(\"C:\\\\Users\\\\denizde\\\\Desktop\\\\projealldata.csv\")"
   ]
  },
  {
   "cell_type": "code",
   "execution_count": 4,
   "id": "6af3c916",
   "metadata": {},
   "outputs": [
    {
     "data": {
      "text/html": [
       "<div>\n",
       "<style scoped>\n",
       "    .dataframe tbody tr th:only-of-type {\n",
       "        vertical-align: middle;\n",
       "    }\n",
       "\n",
       "    .dataframe tbody tr th {\n",
       "        vertical-align: top;\n",
       "    }\n",
       "\n",
       "    .dataframe thead th {\n",
       "        text-align: right;\n",
       "    }\n",
       "</style>\n",
       "<table border=\"1\" class=\"dataframe\">\n",
       "  <thead>\n",
       "    <tr style=\"text-align: right;\">\n",
       "      <th></th>\n",
       "      <th>ID</th>\n",
       "      <th>agv_no</th>\n",
       "      <th>koordinat_x</th>\n",
       "      <th>koordinat_y</th>\n",
       "      <th>gorev_adi</th>\n",
       "      <th>zaman</th>\n",
       "    </tr>\n",
       "  </thead>\n",
       "  <tbody>\n",
       "    <tr>\n",
       "      <th>0</th>\n",
       "      <td>4.0</td>\n",
       "      <td>152</td>\n",
       "      <td>139912</td>\n",
       "      <td>24043</td>\n",
       "      <td>1B/SON MONTAJ/3</td>\n",
       "      <td>2021-11-01 16:51:42.590</td>\n",
       "    </tr>\n",
       "    <tr>\n",
       "      <th>1</th>\n",
       "      <td>9.0</td>\n",
       "      <td>122</td>\n",
       "      <td>146621</td>\n",
       "      <td>23992</td>\n",
       "      <td>1B/SON MONTAJ/3</td>\n",
       "      <td>2021-11-01 16:51:44.003</td>\n",
       "    </tr>\n",
       "    <tr>\n",
       "      <th>2</th>\n",
       "      <td>11.0</td>\n",
       "      <td>152</td>\n",
       "      <td>139911</td>\n",
       "      <td>24049</td>\n",
       "      <td>1B/SON MONTAJ/3</td>\n",
       "      <td>2021-11-01 16:51:45.400</td>\n",
       "    </tr>\n",
       "    <tr>\n",
       "      <th>3</th>\n",
       "      <td>15.0</td>\n",
       "      <td>152</td>\n",
       "      <td>139912</td>\n",
       "      <td>24047</td>\n",
       "      <td>1B/SON MONTAJ/3</td>\n",
       "      <td>2021-11-01 16:51:47.057</td>\n",
       "    </tr>\n",
       "    <tr>\n",
       "      <th>4</th>\n",
       "      <td>20.0</td>\n",
       "      <td>143</td>\n",
       "      <td>179745</td>\n",
       "      <td>107318</td>\n",
       "      <td>Görev Bekleniyor</td>\n",
       "      <td>2021-11-01 16:51:47.907</td>\n",
       "    </tr>\n",
       "    <tr>\n",
       "      <th>5</th>\n",
       "      <td>21.0</td>\n",
       "      <td>122</td>\n",
       "      <td>146623</td>\n",
       "      <td>23994</td>\n",
       "      <td>1B/SON MONTAJ/3</td>\n",
       "      <td>2021-11-01 16:51:48.070</td>\n",
       "    </tr>\n",
       "    <tr>\n",
       "      <th>6</th>\n",
       "      <td>28.0</td>\n",
       "      <td>144</td>\n",
       "      <td>191007</td>\n",
       "      <td>110493</td>\n",
       "      <td>2A/FINAL/1</td>\n",
       "      <td>2021-11-01 16:51:48.800</td>\n",
       "    </tr>\n",
       "    <tr>\n",
       "      <th>7</th>\n",
       "      <td>32.0</td>\n",
       "      <td>122</td>\n",
       "      <td>146618</td>\n",
       "      <td>23992</td>\n",
       "      <td>1B/SON MONTAJ/3</td>\n",
       "      <td>2021-11-01 16:51:48.877</td>\n",
       "    </tr>\n",
       "    <tr>\n",
       "      <th>8</th>\n",
       "      <td>36.0</td>\n",
       "      <td>152</td>\n",
       "      <td>139911</td>\n",
       "      <td>24043</td>\n",
       "      <td>1B/SON MONTAJ/3</td>\n",
       "      <td>2021-11-01 16:51:49.127</td>\n",
       "    </tr>\n",
       "    <tr>\n",
       "      <th>9</th>\n",
       "      <td>46.0</td>\n",
       "      <td>152</td>\n",
       "      <td>139914</td>\n",
       "      <td>24045</td>\n",
       "      <td>1B/SON MONTAJ/3</td>\n",
       "      <td>2021-11-01 16:51:49.907</td>\n",
       "    </tr>\n",
       "  </tbody>\n",
       "</table>\n",
       "</div>"
      ],
      "text/plain": [
       "     ID  agv_no  koordinat_x  koordinat_y         gorev_adi  \\\n",
       "0   4.0     152       139912        24043   1B/SON MONTAJ/3   \n",
       "1   9.0     122       146621        23992   1B/SON MONTAJ/3   \n",
       "2  11.0     152       139911        24049   1B/SON MONTAJ/3   \n",
       "3  15.0     152       139912        24047   1B/SON MONTAJ/3   \n",
       "4  20.0     143       179745       107318  Görev Bekleniyor   \n",
       "5  21.0     122       146623        23994   1B/SON MONTAJ/3   \n",
       "6  28.0     144       191007       110493        2A/FINAL/1   \n",
       "7  32.0     122       146618        23992   1B/SON MONTAJ/3   \n",
       "8  36.0     152       139911        24043   1B/SON MONTAJ/3   \n",
       "9  46.0     152       139914        24045   1B/SON MONTAJ/3   \n",
       "\n",
       "                     zaman  \n",
       "0  2021-11-01 16:51:42.590  \n",
       "1  2021-11-01 16:51:44.003  \n",
       "2  2021-11-01 16:51:45.400  \n",
       "3  2021-11-01 16:51:47.057  \n",
       "4  2021-11-01 16:51:47.907  \n",
       "5  2021-11-01 16:51:48.070  \n",
       "6  2021-11-01 16:51:48.800  \n",
       "7  2021-11-01 16:51:48.877  \n",
       "8  2021-11-01 16:51:49.127  \n",
       "9  2021-11-01 16:51:49.907  "
      ]
     },
     "execution_count": 4,
     "metadata": {},
     "output_type": "execute_result"
    }
   ],
   "source": [
    "dataset.head(10) "
   ]
  },
  {
   "cell_type": "code",
   "execution_count": 5,
   "id": "60a03b98",
   "metadata": {},
   "outputs": [
    {
     "data": {
      "text/plain": [
       "1B/SON MONTAJ/3              365350\n",
       "2A/FINAL/1                   344228\n",
       "Görev Bekleniyor             278075\n",
       "Kalite Lab. Gorev Bekleme    260105\n",
       "2/B/FINAL/1-2                189015\n",
       "1/A/SON MONTAJ/2             163814\n",
       "2/B/SON MONTAJ/2             156354\n",
       "1/A/SON MONTAJ/3             145491\n",
       "1B/SON MONTAJ/2              142608\n",
       "Final 1a                      89985\n",
       "3/A/SON MONTAJ/2              80848\n",
       "2A/SON MONTAJ/2               57983\n",
       "Final 3b                      43671\n",
       "Kalite Lab.                   38770\n",
       "3/B/SON MONTAJ/2              37270\n",
       "2/B/SON MONTAJ/1              27440\n",
       "1/A/SON MONTAJ/4              16747\n",
       "3/B/FINAL/1                   16593\n",
       "2A/SON MONTAJ/1               13163\n",
       "1B/SON MONTAJ/4               10403\n",
       "1/A/SON MONTAJ/1               7823\n",
       "2A/SON MONTAJ/3                7477\n",
       "1B/SON MONTAJ/1                7415\n",
       "2/B/SON MONTAJ/3               6096\n",
       "2/B/SON MONTAJ/4               5888\n",
       "1B//FINAL                      4355\n",
       "2A/FINAL/2                     3692\n",
       "3/B/SON MONTAJ/3               1937\n",
       "1/A/FINAL/1                     980\n",
       "2A/SON MONTAJ/4                 913\n",
       "BUHAR KABI                      809\n",
       "3/A/SON MONTAJ/3                711\n",
       "3/B/SON MONTAJ/1                551\n",
       "3/A/SON MONTAJ/1                449\n",
       "AKU SARJ ISTASYONU              364\n",
       "3/A/SON MONTAJ/4                263\n",
       "Name: gorev_adi, dtype: int64"
      ]
     },
     "execution_count": 5,
     "metadata": {},
     "output_type": "execute_result"
    }
   ],
   "source": [
    "dataset[\"gorev_adi\"].value_counts()"
   ]
  },
  {
   "cell_type": "code",
   "execution_count": 6,
   "id": "7a5fe50b",
   "metadata": {},
   "outputs": [],
   "source": [
    "dataset = dataset[~dataset.gorev_adi.str.contains(\"Görev Bekleniyor\")]\n",
    "dataset = dataset[~dataset.gorev_adi.str.contains(\"Kalite Lab. Gorev Bekleme\")]\n",
    "dataset = dataset[~dataset.gorev_adi.str.contains(\"Final 1a\")]\n",
    "dataset = dataset[~dataset.gorev_adi.str.contains(\"Final 3b\")]\n",
    "dataset = dataset[~dataset.gorev_adi.str.contains(\"Kalite Lab.\")]\n",
    "dataset = dataset[~dataset.gorev_adi.str.contains(\"BUHAR KABI\")]\n",
    "dataset = dataset[~dataset.gorev_adi.str.contains(\"AKU SARJ ISTASYONU\")]"
   ]
  },
  {
   "cell_type": "code",
   "execution_count": 7,
   "id": "143f81da",
   "metadata": {},
   "outputs": [
    {
     "data": {
      "text/plain": [
       "1B/SON MONTAJ/3     365350\n",
       "2A/FINAL/1          344228\n",
       "2/B/FINAL/1-2       189015\n",
       "1/A/SON MONTAJ/2    163814\n",
       "2/B/SON MONTAJ/2    156354\n",
       "1/A/SON MONTAJ/3    145491\n",
       "1B/SON MONTAJ/2     142608\n",
       "3/A/SON MONTAJ/2     80848\n",
       "2A/SON MONTAJ/2      57983\n",
       "3/B/SON MONTAJ/2     37270\n",
       "2/B/SON MONTAJ/1     27440\n",
       "1/A/SON MONTAJ/4     16747\n",
       "3/B/FINAL/1          16593\n",
       "2A/SON MONTAJ/1      13163\n",
       "1B/SON MONTAJ/4      10403\n",
       "1/A/SON MONTAJ/1      7823\n",
       "2A/SON MONTAJ/3       7477\n",
       "1B/SON MONTAJ/1       7415\n",
       "2/B/SON MONTAJ/3      6096\n",
       "2/B/SON MONTAJ/4      5888\n",
       "1B//FINAL             4355\n",
       "2A/FINAL/2            3692\n",
       "3/B/SON MONTAJ/3      1937\n",
       "1/A/FINAL/1            980\n",
       "2A/SON MONTAJ/4        913\n",
       "3/A/SON MONTAJ/3       711\n",
       "3/B/SON MONTAJ/1       551\n",
       "3/A/SON MONTAJ/1       449\n",
       "3/A/SON MONTAJ/4       263\n",
       "Name: gorev_adi, dtype: int64"
      ]
     },
     "execution_count": 7,
     "metadata": {},
     "output_type": "execute_result"
    }
   ],
   "source": [
    "dataset[\"gorev_adi\"].value_counts()"
   ]
  },
  {
   "cell_type": "code",
   "execution_count": 8,
   "id": "23dd01f0",
   "metadata": {},
   "outputs": [],
   "source": [
    "dataset[\"gorev_adi\"] = dataset[\"gorev_adi\"].str[0:3]"
   ]
  },
  {
   "cell_type": "code",
   "execution_count": 9,
   "id": "54b47e5b",
   "metadata": {},
   "outputs": [
    {
     "data": {
      "text/plain": [
       "1B/    530131\n",
       "2A/    427456\n",
       "2/B    384793\n",
       "1/A    334855\n",
       "3/A     82271\n",
       "3/B     56351\n",
       "Name: gorev_adi, dtype: int64"
      ]
     },
     "execution_count": 9,
     "metadata": {},
     "output_type": "execute_result"
    }
   ],
   "source": [
    "dataset[\"gorev_adi\"].value_counts()"
   ]
  },
  {
   "cell_type": "code",
   "execution_count": 10,
   "id": "7d0fab60",
   "metadata": {},
   "outputs": [],
   "source": [
    "dataset[\"gorev_adi\"] = dataset[\"gorev_adi\"].str.replace('/', '')"
   ]
  },
  {
   "cell_type": "code",
   "execution_count": 11,
   "id": "95a415b8",
   "metadata": {},
   "outputs": [],
   "source": [
    "dataset[\"gorev_adi\"] = dataset[\"gorev_adi\"].str.replace('A', '0')"
   ]
  },
  {
   "cell_type": "code",
   "execution_count": 12,
   "id": "a3e56795",
   "metadata": {},
   "outputs": [],
   "source": [
    "dataset[\"gorev_adi\"] = dataset[\"gorev_adi\"].str.replace('B', '1')"
   ]
  },
  {
   "cell_type": "code",
   "execution_count": 13,
   "id": "361fbc33",
   "metadata": {},
   "outputs": [
    {
     "data": {
      "text/plain": [
       "11    530131\n",
       "20    427456\n",
       "21    384793\n",
       "10    334855\n",
       "30     82271\n",
       "31     56351\n",
       "Name: gorev_adi, dtype: int64"
      ]
     },
     "execution_count": 13,
     "metadata": {},
     "output_type": "execute_result"
    }
   ],
   "source": [
    "dataset[\"gorev_adi\"].value_counts()"
   ]
  },
  {
   "cell_type": "code",
   "execution_count": 14,
   "id": "f38091b2",
   "metadata": {},
   "outputs": [],
   "source": [
    "dataset.drop([\"ID\"], axis = 1, inplace = True)\n",
    "dataset.drop([\"agv_no\"], axis = 1, inplace = True)"
   ]
  },
  {
   "cell_type": "code",
   "execution_count": 15,
   "id": "98d52745",
   "metadata": {},
   "outputs": [],
   "source": [
    "X_train, X_test, y_train, y_test = train_test_split(dataset.iloc[:,:], dataset.iloc[:,2], test_size = 0.3, random_state = 42)"
   ]
  },
  {
   "cell_type": "code",
   "execution_count": 16,
   "id": "825d0ba9",
   "metadata": {},
   "outputs": [
    {
     "data": {
      "text/plain": [
       "False"
      ]
     },
     "execution_count": 16,
     "metadata": {},
     "output_type": "execute_result"
    }
   ],
   "source": [
    "X_test.isnull().values.any()"
   ]
  },
  {
   "cell_type": "code",
   "execution_count": 17,
   "id": "4bb76ebb",
   "metadata": {},
   "outputs": [
    {
     "data": {
      "text/plain": [
       "False"
      ]
     },
     "execution_count": 17,
     "metadata": {},
     "output_type": "execute_result"
    }
   ],
   "source": [
    "X_train.isnull().values.any()"
   ]
  },
  {
   "cell_type": "code",
   "execution_count": 18,
   "id": "72d09407",
   "metadata": {},
   "outputs": [
    {
     "data": {
      "text/plain": [
       "False"
      ]
     },
     "execution_count": 18,
     "metadata": {},
     "output_type": "execute_result"
    }
   ],
   "source": [
    "y_test.isnull().values.any()"
   ]
  },
  {
   "cell_type": "code",
   "execution_count": 19,
   "id": "fe09e301",
   "metadata": {},
   "outputs": [
    {
     "data": {
      "text/plain": [
       "False"
      ]
     },
     "execution_count": 19,
     "metadata": {},
     "output_type": "execute_result"
    }
   ],
   "source": [
    "y_train.isnull().values.any()"
   ]
  },
  {
   "cell_type": "code",
   "execution_count": 20,
   "id": "c63e20ec",
   "metadata": {},
   "outputs": [
    {
     "data": {
      "text/plain": [
       "(1271099, 4)"
      ]
     },
     "execution_count": 20,
     "metadata": {},
     "output_type": "execute_result"
    }
   ],
   "source": [
    "X_train.shape"
   ]
  },
  {
   "cell_type": "code",
   "execution_count": 21,
   "id": "181cf0f6",
   "metadata": {},
   "outputs": [
    {
     "data": {
      "text/plain": [
       "(544758, 4)"
      ]
     },
     "execution_count": 21,
     "metadata": {},
     "output_type": "execute_result"
    }
   ],
   "source": [
    "X_test.shape"
   ]
  },
  {
   "cell_type": "code",
   "execution_count": 22,
   "id": "64061f9b",
   "metadata": {},
   "outputs": [],
   "source": [
    "RegressionDataset=X_test.copy()\n",
    "\n",
    "x_test=X_test.copy()"
   ]
  },
  {
   "cell_type": "code",
   "execution_count": 23,
   "id": "04e2dd2f",
   "metadata": {},
   "outputs": [],
   "source": [
    "X_train.drop([\"gorev_adi\"], axis = 1, inplace = True)"
   ]
  },
  {
   "cell_type": "code",
   "execution_count": 24,
   "id": "f41ba34c",
   "metadata": {},
   "outputs": [],
   "source": [
    "x_test.drop([\"gorev_adi\"], axis = 1, inplace = True)"
   ]
  },
  {
   "cell_type": "code",
   "execution_count": 25,
   "id": "f3bec8b9",
   "metadata": {},
   "outputs": [],
   "source": [
    "X_train.drop([\"zaman\"], axis = 1, inplace = True)\n",
    "x_test.drop([\"zaman\"], axis = 1, inplace = True)"
   ]
  },
  {
   "cell_type": "code",
   "execution_count": 26,
   "id": "c47599d7",
   "metadata": {},
   "outputs": [],
   "source": [
    "standardScaler = StandardScaler() #adding scaling lib.\n",
    "standardScaler.fit(X_train)\n",
    "standardScaler.fit(x_test) # fitting the values in X_train\n",
    "X_train = standardScaler.transform(X_train) #changing the values with their standart deviation values\n",
    "x_test = standardScaler.transform(x_test) #changing the values with their standart deviation values"
   ]
  },
  {
   "cell_type": "code",
   "execution_count": 27,
   "id": "6e0258b2",
   "metadata": {},
   "outputs": [
    {
     "data": {
      "text/plain": [
       "array([[ 0.49308545,  1.55300548],\n",
       "       [ 1.19471186,  0.1921274 ],\n",
       "       [ 0.19142312,  1.55155828],\n",
       "       ...,\n",
       "       [ 0.6418761 , -0.66352805],\n",
       "       [-1.35270357, -1.25051733],\n",
       "       [-1.37640927, -0.64631243]])"
      ]
     },
     "execution_count": 27,
     "metadata": {},
     "output_type": "execute_result"
    }
   ],
   "source": [
    "X_train"
   ]
  },
  {
   "cell_type": "code",
   "execution_count": 28,
   "id": "0e848c92",
   "metadata": {},
   "outputs": [
    {
     "data": {
      "text/plain": [
       "KNeighborsClassifier(metric='euclidean')"
      ]
     },
     "execution_count": 28,
     "metadata": {},
     "output_type": "execute_result"
    }
   ],
   "source": [
    "knn=KNeighborsClassifier(n_neighbors=5, metric=\"euclidean\", p=2)\n",
    "\n",
    "knn.fit(X_train,y_train)"
   ]
  },
  {
   "cell_type": "code",
   "execution_count": 29,
   "id": "4fe362fc",
   "metadata": {},
   "outputs": [],
   "source": [
    "predictions=knn.predict(x_test)"
   ]
  },
  {
   "cell_type": "code",
   "execution_count": 30,
   "id": "e3491a69",
   "metadata": {},
   "outputs": [
    {
     "data": {
      "text/plain": [
       "0.7824134753413442"
      ]
     },
     "execution_count": 30,
     "metadata": {},
     "output_type": "execute_result"
    }
   ],
   "source": [
    "knn.score(x_test,y_test)"
   ]
  },
  {
   "cell_type": "code",
   "execution_count": 31,
   "id": "d1d1b08f",
   "metadata": {},
   "outputs": [
    {
     "name": "stdout",
     "output_type": "stream",
     "text": [
      "Accuracy 0.7824134753413442\n",
      "Recall 0.7824134753413442\n",
      "Precision 0.7824134753413442\n",
      "F1 0.7824134753413443\n"
     ]
    }
   ],
   "source": [
    "from sklearn.metrics import accuracy_score, recall_score, precision_score, f1_score\n",
    "print(\"Accuracy\", accuracy_score(y_test, knn.predict(x_test)))\n",
    "print(\"Recall\", recall_score(y_test, knn.predict(x_test),average=\"micro\"))\n",
    "print(\"Precision\", precision_score(y_test, knn.predict(x_test), average=\"micro\"))\n",
    "print(\"F1\", f1_score(y_test, knn.predict(x_test),average=\"micro\"))"
   ]
  },
  {
   "cell_type": "code",
   "execution_count": 32,
   "id": "c354d146",
   "metadata": {},
   "outputs": [
    {
     "data": {
      "text/plain": [
       "<sklearn.metrics._plot.confusion_matrix.ConfusionMatrixDisplay at 0x181314714f0>"
      ]
     },
     "execution_count": 32,
     "metadata": {},
     "output_type": "execute_result"
    },
    {
     "data": {
      "image/png": "[encoded data removed]",
      "text/plain": [
       "<Figure size 432x288 with 2 Axes>"
      ]
     },
     "metadata": {
      "needs_background": "light"
     },
     "output_type": "display_data"
    }
   ],
   "source": [
    "from sklearn.metrics import confusion_matrix, ConfusionMatrixDisplay\n",
    "cm=confusion_matrix(y_test, knn.predict(x_test))\n",
    "disp=ConfusionMatrixDisplay(confusion_matrix=cm,display_labels=knn.classes_)\n",
    "disp.plot()"
   ]
  },
  {
   "cell_type": "code",
   "execution_count": 33,
   "id": "f68f2c02",
   "metadata": {},
   "outputs": [],
   "source": [
    "RegressionDataset.drop([\"gorev_adi\"], axis = 1, inplace = True)"
   ]
  },
  {
   "cell_type": "code",
   "execution_count": 34,
   "id": "030dd8f8",
   "metadata": {},
   "outputs": [],
   "source": [
    "RegressionDataset[\"gorev_adi\"]=predictions\n"
   ]
  },
  {
   "cell_type": "code",
   "execution_count": 35,
   "id": "a1fa5927",
   "metadata": {},
   "outputs": [
    {
     "data": {
      "text/html": [
       "<div>\n",
       "<style scoped>\n",
       "    .dataframe tbody tr th:only-of-type {\n",
       "        vertical-align: middle;\n",
       "    }\n",
       "\n",
       "    .dataframe tbody tr th {\n",
       "        vertical-align: top;\n",
       "    }\n",
       "\n",
       "    .dataframe thead th {\n",
       "        text-align: right;\n",
       "    }\n",
       "</style>\n",
       "<table border=\"1\" class=\"dataframe\">\n",
       "  <thead>\n",
       "    <tr style=\"text-align: right;\">\n",
       "      <th></th>\n",
       "      <th>koordinat_x</th>\n",
       "      <th>koordinat_y</th>\n",
       "      <th>zaman</th>\n",
       "      <th>gorev_adi</th>\n",
       "    </tr>\n",
       "  </thead>\n",
       "  <tbody>\n",
       "    <tr>\n",
       "      <th>355937</th>\n",
       "      <td>131426</td>\n",
       "      <td>4065</td>\n",
       "      <td>2021-11-03 01:33:47.050</td>\n",
       "      <td>10</td>\n",
       "    </tr>\n",
       "  </tbody>\n",
       "</table>\n",
       "</div>"
      ],
      "text/plain": [
       "        koordinat_x  koordinat_y                    zaman gorev_adi\n",
       "355937       131426         4065  2021-11-03 01:33:47.050        10"
      ]
     },
     "execution_count": 35,
     "metadata": {},
     "output_type": "execute_result"
    }
   ],
   "source": [
    "RegressionDataset.head(1)"
   ]
  },
  {
   "cell_type": "code",
   "execution_count": 36,
   "id": "e2641dba",
   "metadata": {},
   "outputs": [],
   "source": [
    "RegressionDataset['month']=RegressionDataset['zaman'].str[5:7]\n",
    "RegressionDataset['day']=RegressionDataset['zaman'].str[8:10]\n",
    "RegressionDataset['hour']=RegressionDataset['zaman'].str[11:13]"
   ]
  },
  {
   "cell_type": "code",
   "execution_count": 37,
   "id": "90e740c4",
   "metadata": {},
   "outputs": [
    {
     "data": {
      "text/html": [
       "<div>\n",
       "<style scoped>\n",
       "    .dataframe tbody tr th:only-of-type {\n",
       "        vertical-align: middle;\n",
       "    }\n",
       "\n",
       "    .dataframe tbody tr th {\n",
       "        vertical-align: top;\n",
       "    }\n",
       "\n",
       "    .dataframe thead th {\n",
       "        text-align: right;\n",
       "    }\n",
       "</style>\n",
       "<table border=\"1\" class=\"dataframe\">\n",
       "  <thead>\n",
       "    <tr style=\"text-align: right;\">\n",
       "      <th></th>\n",
       "      <th>koordinat_x</th>\n",
       "      <th>koordinat_y</th>\n",
       "      <th>zaman</th>\n",
       "      <th>gorev_adi</th>\n",
       "      <th>month</th>\n",
       "      <th>day</th>\n",
       "      <th>hour</th>\n",
       "    </tr>\n",
       "  </thead>\n",
       "  <tbody>\n",
       "    <tr>\n",
       "      <th>355937</th>\n",
       "      <td>131426</td>\n",
       "      <td>4065</td>\n",
       "      <td>2021-11-03 01:33:47.050</td>\n",
       "      <td>10</td>\n",
       "      <td>11</td>\n",
       "      <td>03</td>\n",
       "      <td>01</td>\n",
       "    </tr>\n",
       "  </tbody>\n",
       "</table>\n",
       "</div>"
      ],
      "text/plain": [
       "        koordinat_x  koordinat_y                    zaman gorev_adi month day  \\\n",
       "355937       131426         4065  2021-11-03 01:33:47.050        10    11  03   \n",
       "\n",
       "       hour  \n",
       "355937   01  "
      ]
     },
     "execution_count": 37,
     "metadata": {},
     "output_type": "execute_result"
    }
   ],
   "source": [
    "RegressionDataset.head(1)"
   ]
  },
  {
   "cell_type": "code",
   "execution_count": 38,
   "id": "5d17be08",
   "metadata": {},
   "outputs": [],
   "source": [
    "RegressionDataset.drop([\"koordinat_x\"], axis = 1, inplace = True)\n",
    "RegressionDataset.drop([\"koordinat_y\"], axis = 1, inplace = True)"
   ]
  },
  {
   "cell_type": "code",
   "execution_count": 39,
   "id": "dce19753",
   "metadata": {},
   "outputs": [
    {
     "data": {
      "text/plain": [
       "09    28050\n",
       "17    27771\n",
       "21    26873\n",
       "15    25284\n",
       "23    25255\n",
       "20    24907\n",
       "14    24666\n",
       "08    24415\n",
       "01    24399\n",
       "16    23897\n",
       "11    23450\n",
       "00    23264\n",
       "07    22828\n",
       "12    22425\n",
       "10    22231\n",
       "19    22190\n",
       "02    21038\n",
       "04    20417\n",
       "06    19374\n",
       "05    18874\n",
       "18    18865\n",
       "13    18701\n",
       "22    17819\n",
       "03    17765\n",
       "Name: hour, dtype: int64"
      ]
     },
     "execution_count": 39,
     "metadata": {},
     "output_type": "execute_result"
    }
   ],
   "source": [
    "RegressionDataset[\"hour\"].value_counts()"
   ]
  },
  {
   "cell_type": "code",
   "execution_count": 40,
   "id": "a6adf41c",
   "metadata": {},
   "outputs": [],
   "source": [
    "def AGVQuantity(gorevadi,regressiondata): \n",
    "    \n",
    "    dataset=regressiondata\n",
    "    gorev=gorevadi\n",
    "    \n",
    "    NewDataFrame[\"hour\"]=['00','01','02','03','04','05','06','07','08','09','10','11','12','13','14','15','16','17','18','19','20','21','22','23']\n",
    "    \n",
    "    #dataset = dataset[dataset.day.str.contains(day)]\n",
    "    dataset = dataset[dataset.gorev_adi.str.contains(gorevadi)]\n",
    "    \n",
    "    Monthmax=int(dataset[\"month\"].max())\n",
    "    Monthmin=int(dataset[\"month\"].min())\n",
    "    MonthDifference=int(Monthmax-Monthmin)\n",
    "    \n",
    "    if MonthDifference==0 : \n",
    "        MonthDifference=1\n",
    "    \n",
    "    resultf00=dataset.loc[(dataset[\"hour\"]=='00') & (dataset[\"gorev_adi\"]==gorev)]\n",
    "    resultf01=dataset.loc[(dataset[\"hour\"]=='01') & (dataset[\"gorev_adi\"]==gorev)]\n",
    "    resultf02=dataset.loc[(dataset[\"hour\"]=='02') & (dataset[\"gorev_adi\"]==gorev)]\n",
    "    resultf03=dataset.loc[(dataset[\"hour\"]=='03') & (dataset[\"gorev_adi\"]==gorev)]\n",
    "    resultf04=dataset.loc[(dataset[\"hour\"]=='04') & (dataset[\"gorev_adi\"]==gorev)]\n",
    "    resultf05=dataset.loc[(dataset[\"hour\"]=='05') & (dataset[\"gorev_adi\"]==gorev)]\n",
    "    resultf06=dataset.loc[(dataset[\"hour\"]=='06') & (dataset[\"gorev_adi\"]==gorev)]\n",
    "    resultf07=dataset.loc[(dataset[\"hour\"]=='07') & (dataset[\"gorev_adi\"]==gorev)]\n",
    "    resultf08=dataset.loc[(dataset[\"hour\"]=='08') & (dataset[\"gorev_adi\"]==gorev)]\n",
    "    resultf09=dataset.loc[(dataset[\"hour\"]=='09') & (dataset[\"gorev_adi\"]==gorev)]\n",
    "    resultf10=dataset.loc[(dataset[\"hour\"]=='10') & (dataset[\"gorev_adi\"]==gorev)]\n",
    "    resultf11=dataset.loc[(dataset[\"hour\"]=='11') & (dataset[\"gorev_adi\"]==gorev)]\n",
    "    resultf12=dataset.loc[(dataset[\"hour\"]=='12') & (dataset[\"gorev_adi\"]==gorev)]\n",
    "    resultf13=dataset.loc[(dataset[\"hour\"]=='13') & (dataset[\"gorev_adi\"]==gorev)]\n",
    "    resultf14=dataset.loc[(dataset[\"hour\"]=='14') & (dataset[\"gorev_adi\"]==gorev)]\n",
    "    resultf15=dataset.loc[(dataset[\"hour\"]=='15') & (dataset[\"gorev_adi\"]==gorev)]\n",
    "    resultf16=dataset.loc[(dataset[\"hour\"]=='16') & (dataset[\"gorev_adi\"]==gorev)]\n",
    "    resultf17=dataset.loc[(dataset[\"hour\"]=='17') & (dataset[\"gorev_adi\"]==gorev)]\n",
    "    resultf18=dataset.loc[(dataset[\"hour\"]=='18') & (dataset[\"gorev_adi\"]==gorev)]\n",
    "    resultf19=dataset.loc[(dataset[\"hour\"]=='19') & (dataset[\"gorev_adi\"]==gorev)]\n",
    "    resultf20=dataset.loc[(dataset[\"hour\"]=='20') & (dataset[\"gorev_adi\"]==gorev)]\n",
    "    resultf21=dataset.loc[(dataset[\"hour\"]=='21') & (dataset[\"gorev_adi\"]==gorev)]\n",
    "    resultf22=dataset.loc[(dataset[\"hour\"]=='22') & (dataset[\"gorev_adi\"]==gorev)]\n",
    "    resultf23=dataset.loc[(dataset[\"hour\"]=='23') & (dataset[\"gorev_adi\"]==gorev)]\n",
    "    \n",
    "    NewDataFrame[\"AverageCount\"]=[resultf00.shape[0]/MonthDifference,\n",
    "                                  resultf01.shape[0]/MonthDifference,\n",
    "                                  resultf02.shape[0]/MonthDifference,\n",
    "                                  resultf03.shape[0]/MonthDifference,\n",
    "                                  resultf04.shape[0]/MonthDifference,\n",
    "                                  resultf05.shape[0]/MonthDifference,\n",
    "                                  resultf06.shape[0]/MonthDifference,\n",
    "                                  resultf07.shape[0]/MonthDifference,\n",
    "                                  resultf08.shape[0]/MonthDifference,\n",
    "                                  resultf09.shape[0]/MonthDifference,\n",
    "                                  resultf10.shape[0]/MonthDifference,\n",
    "                                  resultf11.shape[0]/MonthDifference,\n",
    "                                  resultf12.shape[0]/MonthDifference,\n",
    "                                  resultf13.shape[0]/MonthDifference,\n",
    "                                  resultf14.shape[0]/MonthDifference,\n",
    "                                  resultf15.shape[0]/MonthDifference,\n",
    "                                  resultf16.shape[0]/MonthDifference,\n",
    "                                  resultf17.shape[0]/MonthDifference,\n",
    "                                  resultf18.shape[0]/MonthDifference,\n",
    "                                  resultf19.shape[0]/MonthDifference,\n",
    "                                  resultf20.shape[0]/MonthDifference,\n",
    "                                  resultf21.shape[0]/MonthDifference,\n",
    "                                  resultf22.shape[0]/MonthDifference,\n",
    "                                  resultf23.shape[0]/MonthDifference]\n",
    "    \n",
    "    \n",
    "    \n",
    "    \n",
    "    \n",
    "    return NewDataFrame "
   ]
  },
  {
   "cell_type": "code",
   "execution_count": 41,
   "id": "6d100312",
   "metadata": {},
   "outputs": [
    {
     "data": {
      "text/plain": [
       "[<matplotlib.lines.Line2D at 0x18115bcf190>]"
      ]
     },
     "execution_count": 41,
     "metadata": {},
     "output_type": "execute_result"
    },
    {
     "data": {
      "image/png": "[encoded data removed]",
      "text/plain": [
       "<Figure size 432x288 with 1 Axes>"
      ]
     },
     "metadata": {
      "needs_background": "light"
     },
     "output_type": "display_data"
    }
   ],
   "source": [
    "import matplotlib.pyplot\n",
    "import matplotlib.dates\n",
    "\n",
    "from datetime import time\n",
    "\n",
    "NewDataFrame=pd.DataFrame()\n",
    "\n",
    "NewDataFrame=(AGVQuantity(\"11\",RegressionDataset))\n",
    "\n",
    "x_values = NewDataFrame['hour']\n",
    "y_values = NewDataFrame['AverageCount']\n",
    "\n",
    "\n",
    "matplotlib.pyplot.plot_date(x_values, y_values)"
   ]
  },
  {
   "cell_type": "code",
   "execution_count": 42,
   "id": "f9df92da",
   "metadata": {},
   "outputs": [
    {
     "data": {
      "text/plain": [
       "(24,)"
      ]
     },
     "execution_count": 42,
     "metadata": {},
     "output_type": "execute_result"
    }
   ],
   "source": [
    "x_values.shape"
   ]
  },
  {
   "cell_type": "code",
   "execution_count": 43,
   "id": "de60e93d",
   "metadata": {},
   "outputs": [
    {
     "data": {
      "text/plain": [
       "(24,)"
      ]
     },
     "execution_count": 43,
     "metadata": {},
     "output_type": "execute_result"
    }
   ],
   "source": [
    "y_values.shape"
   ]
  },
  {
   "cell_type": "code",
   "execution_count": 44,
   "id": "96a73788",
   "metadata": {},
   "outputs": [],
   "source": [
    "x=x_values.tolist()\n",
    "    \n",
    "y=y_values.tolist()"
   ]
  },
  {
   "cell_type": "code",
   "execution_count": 45,
   "id": "90edde94",
   "metadata": {},
   "outputs": [],
   "source": [
    "x=list(map(int,x))"
   ]
  },
  {
   "cell_type": "code",
   "execution_count": 46,
   "id": "a628c49a",
   "metadata": {},
   "outputs": [],
   "source": [
    "y=list(map(int,y))"
   ]
  },
  {
   "cell_type": "code",
   "execution_count": 47,
   "id": "97447e3f",
   "metadata": {},
   "outputs": [],
   "source": [
    "from scipy import stats\n",
    "\n"
   ]
  },
  {
   "cell_type": "code",
   "execution_count": 48,
   "id": "f5d9adfc",
   "metadata": {},
   "outputs": [],
   "source": [
    "slope, intercept, r, p, std_error=stats.linregress(x,y)"
   ]
  },
  {
   "cell_type": "code",
   "execution_count": 49,
   "id": "02d9f518",
   "metadata": {},
   "outputs": [
    {
     "name": "stdout",
     "output_type": "stream",
     "text": [
      "37.94521739130435\n"
     ]
    }
   ],
   "source": [
    "print(slope)"
   ]
  },
  {
   "cell_type": "code",
   "execution_count": 50,
   "id": "8512503d",
   "metadata": {},
   "outputs": [
    {
     "name": "stdout",
     "output_type": "stream",
     "text": [
      "0.2184974121761318\n"
     ]
    }
   ],
   "source": [
    "print(r) # correlation coeffient"
   ]
  },
  {
   "cell_type": "code",
   "execution_count": 51,
   "id": "f1e7d5f0",
   "metadata": {},
   "outputs": [],
   "source": [
    "def myLinearFunction(x):\n",
    "    return slope*x+intercept"
   ]
  },
  {
   "cell_type": "code",
   "execution_count": 52,
   "id": "1963a58f",
   "metadata": {},
   "outputs": [],
   "source": [
    "myprediction=list(map(myLinearFunction,x))"
   ]
  },
  {
   "cell_type": "code",
   "execution_count": 53,
   "id": "7352d650",
   "metadata": {},
   "outputs": [
    {
     "data": {
      "text/plain": [
       "[7108.63,\n",
       " 7146.575217391304,\n",
       " 7184.520434782608,\n",
       " 7222.465652173913,\n",
       " 7260.410869565218,\n",
       " 7298.356086956522,\n",
       " 7336.301304347826,\n",
       " 7374.246521739131,\n",
       " 7412.191739130435,\n",
       " 7450.136956521739,\n",
       " 7488.082173913043,\n",
       " 7526.0273913043475,\n",
       " 7563.9726086956525,\n",
       " 7601.917826086957,\n",
       " 7639.863043478261,\n",
       " 7677.808260869565,\n",
       " 7715.75347826087,\n",
       " 7753.698695652174,\n",
       " 7791.643913043478,\n",
       " 7829.589130434782,\n",
       " 7867.5343478260875,\n",
       " 7905.479565217392,\n",
       " 7943.424782608696,\n",
       " 7981.37]"
      ]
     },
     "execution_count": 53,
     "metadata": {},
     "output_type": "execute_result"
    }
   ],
   "source": [
    "myprediction"
   ]
  },
  {
   "cell_type": "code",
   "execution_count": 54,
   "id": "547950f6",
   "metadata": {},
   "outputs": [
    {
     "data": {
      "image/png": "[encoded data removed]",
      "text/plain": [
       "<Figure size 432x288 with 1 Axes>"
      ]
     },
     "metadata": {
      "needs_background": "light"
     },
     "output_type": "display_data"
    }
   ],
   "source": [
    "plt.scatter(x,y)\n",
    "plt.plot(x,myprediction, color='red')\n",
    "plt.show()"
   ]
  },
  {
   "cell_type": "code",
   "execution_count": 55,
   "id": "40c8e5b7",
   "metadata": {},
   "outputs": [
    {
     "data": {
      "text/plain": [
       "7298.356086956522"
      ]
     },
     "execution_count": 55,
     "metadata": {},
     "output_type": "execute_result"
    }
   ],
   "source": [
    "myLinearFunction(5)"
   ]
  },
  {
   "cell_type": "code",
   "execution_count": null,
   "id": "37aa826f",
   "metadata": {},
   "outputs": [],
   "source": []
  },
  {
   "cell_type": "code",
   "execution_count": null,
   "id": "e6462cb2",
   "metadata": {},
   "outputs": [],
   "source": []
  },
  {
   "cell_type": "code",
   "execution_count": null,
   "id": "861b17a2",
   "metadata": {},
   "outputs": [],
   "source": []
  },
  {
   "cell_type": "code",
   "execution_count": null,
   "id": "6f4674b0",
   "metadata": {},
   "outputs": [],
   "source": []
  },
  {
   "cell_type": "code",
   "execution_count": null,
   "id": "380af10e",
   "metadata": {},
   "outputs": [],
   "source": []
  },
  {
   "cell_type": "code",
   "execution_count": null,
   "id": "5144af7a",
   "metadata": {},
   "outputs": [],
   "source": []
  },
  {
   "cell_type": "code",
   "execution_count": null,
   "id": "4ce26859",
   "metadata": {},
   "outputs": [],
   "source": []
  },
  {
   "cell_type": "code",
   "execution_count": null,
   "id": "e636833b",
   "metadata": {},
   "outputs": [],
   "source": []
  },
  {
   "cell_type": "code",
   "execution_count": null,
   "id": "a84a75fa",
   "metadata": {},
   "outputs": [],
   "source": []
  },
  {
   "cell_type": "code",
   "execution_count": null,
   "id": "7a8726db",
   "metadata": {},
   "outputs": [],
   "source": []
  },
  {
   "cell_type": "code",
   "execution_count": null,
   "id": "857e99ef",
   "metadata": {},
   "outputs": [],
   "source": []
  },
  {
   "cell_type": "code",
   "execution_count": null,
   "id": "68ac8bc3",
   "metadata": {},
   "outputs": [],
   "source": []
  },
  {
   "cell_type": "code",
   "execution_count": null,
   "id": "49b16300",
   "metadata": {},
   "outputs": [],
   "source": []
  }
 ],
 "metadata": {
  "kernelspec": {
   "display_name": "Python 3 (ipykernel)",
   "language": "python",
   "name": "python3"
  },
  "language_info": {
   "codemirror_mode": {
    "name": "ipython",
    "version": 3
   },
   "file_extension": ".py",
   "mimetype": "text/x-python",
   "name": "python",
   "nbconvert_exporter": "python",
   "pygments_lexer": "ipython3",
   "version": "3.8.8"
  }
 },
 "nbformat": 4,
 "nbformat_minor": 5
}
